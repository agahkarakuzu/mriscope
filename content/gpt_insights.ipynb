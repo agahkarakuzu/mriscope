{
 "cells": [
  {
   "cell_type": "markdown",
   "id": "9f89fade-5dbd-4a23-b8a1-f56f59667c04",
   "metadata": {
    "editable": true,
    "slideshow": {
     "slide_type": ""
    },
    "tags": []
   },
   "source": [
    "## Creating a knowledge base for a custom GPT\n",
    "\n",
    "We created a custom GPT (Generative Pretrained Transformer) model, designed specifically to assist in the analysis and synthesis of information pertaining to the 31 reproducible research insights. The knowledge base of this retrieval-augmented generation framework comprises GPT-4 summaries of RRInsights interviews coupled with the original abstract, title, and keywords of the respective articles. This specialized GPT, named RRInsights, is tailored to process and interpret the provided data in the context of reproducibility. Through its advanced natural language processing capabilities, RRInsights can efficiently analyze the scoped literature, extract key insights, and generate comprehensive overviews of the research papers focusing on MRI technology."
   ]
  },
  {
   "cell_type": "code",
   "execution_count": 65,
   "id": "e4fda273-04ba-4669-982c-b67d3063f2bf",
   "metadata": {
    "editable": true,
    "slideshow": {
     "slide_type": ""
    },
    "tags": [
     "hide-input"
    ]
   },
   "outputs": [],
   "source": [
    "import os \n",
    "from openai import OpenAI\n",
    "import pickle\n",
    "from dotenv import dotenv_values\n",
    "import pandas as pd\n",
    "import tiktoken\n",
    "import numpy as np\n",
    "from sklearn.manifold import TSNE\n",
    "import plotly.graph_objects as go\n",
    "from plotly.offline import plot\n",
    "from IPython.display import display, HTML\n",
    "\n",
    "config = dotenv_values(\"../.env\")\n",
    "\n",
    "DATA_ROOT = \"../data/repro_mri_scoping/repro_mri_scoping\"\n",
    "\n",
    "client = OpenAI(api_key=config['OPENAI_KEY'])\n",
    "\n",
    "def read_file(file_path):\n",
    "    with open(file_path, 'r', encoding='utf-8') as file:\n",
    "        content = file.read()\n",
    "    return content\n",
    "\n",
    "def write_file(file_path, content):\n",
    "    with open(file_path, 'w') as file:\n",
    "        file.write(content)\n",
    "\n",
    "def write_pickle(filename,content):\n",
    "    with open(filename, 'wb') as file:\n",
    "        pickle.dump(content, file)\n",
    "\n",
    "def read_pickle(file_name):\n",
    "    with open(file_name, 'rb') as f:\n",
    "        data = pickle.load(f)\n",
    "    return data\n",
    "\n",
    "def get_output_dir(file_name):\n",
    "    op_dir = \"../output\"\n",
    "    if not os.path.exists(op_dir):\n",
    "        os.mkdir(op_dir)\n",
    "    return os.path.join(op_dir,file_name)\n",
    "\n",
    "def get_embedding(text, model=\"text-embedding-ada-002\"):\n",
    "    text = text.replace(\"\\n\", \" \")\n",
    "    return client.embeddings.create(input = [text], model=model).data[0].embedding"
   ]
  },
  {
   "cell_type": "markdown",
   "id": "8797ec42-e95c-491b-b4ab-c803c3cec1ff",
   "metadata": {
    "editable": true,
    "slideshow": {
     "slide_type": ""
    },
    "tags": []
   },
   "source": [
    "```{warning} Setting up OpenAI authorization\n",
    "To enable API calls, you need to add your OpenAI token to the `.env` file.\n",
    "```\n",
    "\n",
    "```{warning} Starting a session with OpenAI API\n",
    "The following code requires GPT tokens to feed insight files one by one and to return a summary. Estimated cost ~6-8 USD.\n",
    "```\n"
   ]
  },
  {
   "cell_type": "code",
   "execution_count": 48,
   "id": "b65bed0a-9a5e-4f19-ab1b-e56a9fb27847",
   "metadata": {
    "editable": true,
    "slideshow": {
     "slide_type": ""
    },
    "tags": [
     "hide-input"
    ]
   },
   "outputs": [
    {
     "name": "stdout",
     "output_type": "stream",
     "text": [
      "API key not found. Available dataset will be used. Example: \n",
      "\n",
      "[{'role': 'system', 'content': 'You are a helpful assistant designed to understand and summarize the reproducibility aspects of neuroimaging research articles.'}, {'role': 'user', 'content': 'The following content is from ARTICLE 1. In relavance to its title and abstract, create 4 keywords, then summarize what did the study achieve and why it was reproducible in 4 sentences: Title: In vivo magnetic resonance 31P‐Spectral Analysis With Neural Networks: 31P‐SPAWNN \\nAbstract: We have introduced an artificial intelligence framework, 31P‐SPAWNN, in order to fully analyze phosphorus‐31 ( 31$$ {}^{31} $$ P) magnetic resonance spectra. The flexibility and speed of the technique rival traditional least‐square fitting methods, with the performance of the two approaches, are compared in this work. \\nReproducibility Insights:\\nGeneral questions\\nQuestions about the specific reproducible research habit\\n\\nThis MRM Reproducible Research Insights interview is with Julien Songeon and Antoine Klauser from the University of Geneva in Switzerland, respectively first and last author of a paper entitled “In vivo magnetic resonance 31 P-Spectral Analysis With Neural Networks: 31P-SPAWNN”. This work was singled out because it demonstrated exemplary reproducible research practices; specifically, the authorsshared the source code for their proposed method (simulations, their deep learning network, and sample datasets).\\nTo learn more, check outour recent MRM Highlights Q&A interview with Julien Songeon and Antoine Klauser.\\n1. Why did you choose to share your code/data?\\nThis approach naturally facilitates the demonstration presented in the manuscript, allowing interested readers to test the method themselves. Also, we enable others to validate and reproduce our results effectively.\\nAlso, rather than adopting a competitive approach, we prefer, in this way, to promote collaboration in MR research, because a collaborative mindset can foster advancements and progress in the field. Ultimately, code sharing can assist other researchers who wish to pursue similar research directions. They can utilize our work as a foundation, potentially saving significant implementation and coding efforts. This accelerates the pace of research and encourages researchers to build upon existing knowledge rather than wasting resources on replication efforts.\\n2. What is your lab or institutional policy on sharing research code and data?\\nOur institution has a highly flexible policy regarding the sharing of code and data. While open science practices are strongly encouraged, there are no clear advantages for us nor mandatory constraints in place that require us to share .\\n3. How do you think we might encourage researchers in the MRI community to contribute more open-source content along with their research papers?\\nI believe that if code and data sharing were recognized to add clear value to a submitted manuscript, then authors would have a positive incentive to provide open-source content. In addition to evaluating factors such as innovation, soundness of methodology, quality of results, and clarity of demonstration, editors should acknowledge the inclusion of code and data as a valuable contribution to the scientific community.\\n1. Your code repository is really well documented. What advice would you give to people preparing to share their first repository?\\nWhen preparing to share a code repository, you need to think about the future users of your code and what information they will need to understand and use it effectively. The README file should explain the purpose of the code, and provide installation instructions, dependencies, and examples. The files could have comments within the code to clarify specific sections or functions. To help users navigate the repository and locate relevant files easily, I suggest organizing your code and files in a logical manner, using explicit naming. Finally, I would recommend including examples and/or tutorials, providing sample input data and scripts that demonstrate how to use your code. This can really help users to understand the expected workflow and apply the code to their own research.\\n2. What questions did you ask yourselves while you were developing the code that would eventually be shared?\\nIn the development phase, we aimed to create code that could be easily adapted and reused for different experiments or in different research scenarios.We also considered the computational complexity and performance of our code to ensure that it could handle large training datasets or complex computations effectively.Finally, we paid attention to the clarity and comprehensibility of our code. We aimed to write code that would be accessible to other researchers.\\n3. How do you recommend that people use the project repository you shared?\\nStart with the README file. Read the README file and try to rerun the command shown. it will provide an overview of the capability and usage of the code and model.Once you have a good understanding of the code, try to run it on your own data, adapting the number of points and the bandwidth and retraining a new model.Then, further adaptation could be implemented: you could add other metabolites, apply the method to other nuclei, explore other model architectures.\\n4. Are there any other reproducible research habits that you didn’t use for this paper but might be interested in trying in the future?\\nUsing tools likeDockerorSingularityto create reproducible and portable computing environments. This ensures that the code can be executed consistently across different systems and configurations without cumbersome installation or setup. In addition, keeping track of and archiving the successive versions of the code in a systematic manner allows researchers to easily track and manage changes to the code over time. This can be particularly useful when code is linked to a publication and extra data are required during the peer-review process. Also, we could try making automated pipelines that capture the entire workflow, from data acquisition to final results. Doing this simplifies the reproducibility process and reduces the potential for human error.\\n'}, {'role': 'assistant', 'content': 'Keywords: 31P‐SPAWNN, neural networks, reproducibility, magnetic resonance spectroscopy\\n\\nStudy Achievements and Reproducibility Summary:\\n\\n1. The study introduced a new artificial intelligence framework, 31P‐SPAWNN, for analyzing 31P magnetic resonance spectra, demonstrating that it provides a fast and flexible alternative to traditional least-square fitting methods.\\n2. Reproducibility was exemplary as the authors shared the source code, simulations, their deep learning network, and sample datasets, enabling other researchers to test, validate, and reproduce their results easily.\\n3. Open sharing of the code and data was motivated by a commitment to collaborative advancement in MR research and the drive to facilitate incremental knowledge growth within the community without redundant effort.\\n4. The authors suggest best practices for sharing research repositories, including comprehensive documentation, logical organization, and the use of tools like Docker or Singularity to improve the portability and consistency of the computational research environment, thereby enhancing reproducibility further.'}]\n"
     ]
    }
   ],
   "source": [
    "directory_path = os.path.join(DATA_ROOT,\"repro_insights_parsed_nov23\")\n",
    "\n",
    "# Read the data that has been crawled and parsed.\n",
    "input_files = [os.path.join(directory_path,f) for f in os.listdir(directory_path) if f.endswith('.txt')]\n",
    "\n",
    "# Task definition for GPT\n",
    "messages = [{\"role\": \"system\", \"content\": \"You are a helpful assistant designed to understand and summarize the reproducibility aspects of neuroimaging research articles.\"}]\n",
    "\n",
    "\"\"\"\n",
    "!!!! WARNING !!!!\n",
    "\n",
    "The following code requires GPT tokens to \n",
    "feed insight files one by one and to return \n",
    "a summary. Estimated cost ~6-8 USD.\n",
    "\"\"\"\n",
    "\n",
    "if config['OPENAI_KEY']:\n",
    "    # Comment out this line to run it on all the entries.\n",
    "    input_files = input_files[0:2]\n",
    "    \n",
    "    for ii, cur_file in enumerate(input_files):\n",
    "        cur_content = read_file(cur_file)\n",
    "        print(f\"Requesting summary for {cur_file}\")\n",
    "        messages.append({\"role\": \"user\", \"content\": f\"The following content is from ARTICLE {ii+1}. In relavance to its title and abstract, create 4 keywords, then summarize what did the study achieve and why it was reproducible in 4 sentences: {cur_content}\"})\n",
    "        response = client.chat.completions.create(\n",
    "          model=\"gpt-4-1106-preview\",\n",
    "          messages= messages\n",
    "        )\n",
    "        try:\n",
    "            cur_response = {\"role\": \"assistant\", \"content\": response.choices[0].message.content}\n",
    "            messages.append(cur_response)\n",
    "            write_pickle(get_output_dir(\"gpt_chat.pkl\"),messages)\n",
    "        except Exception as e:        \n",
    "            print(f\"Exception: {e}\")\n",
    "            write_pickle(get_output_dir(\"gpt_chat.pkl\"),messages)\n",
    "    gpt_outputs = os.path.join(get_output_dir(\"gpt_chat.pkl\"))            \n",
    "else: \n",
    "    print('API key not found. Available dataset will be used. Example: \\n')\n",
    "    gpt_outputs = os.path.join(DATA_ROOT, \"gpt_chat.pkl\")\n",
    "    messages = read_pickle(gpt_outputs)\n",
    "    print(messages[0:3])"
   ]
  },
  {
   "cell_type": "markdown",
   "id": "a208a94f-c322-4c5f-b165-b6f61e93c0d2",
   "metadata": {
    "editable": true,
    "slideshow": {
     "slide_type": ""
    },
    "tags": []
   },
   "source": [
    "```{admonition} Synthesis\n",
    "Create a high-level review of all the summarized content\n",
    "```"
   ]
  },
  {
   "cell_type": "code",
   "execution_count": 45,
   "id": "b499ca46-e9a5-4d71-8389-7d31b5c8723f",
   "metadata": {
    "editable": true,
    "slideshow": {
     "slide_type": ""
    },
    "tags": [
     "hide-input"
    ]
   },
   "outputs": [
    {
     "name": "stdout",
     "output_type": "stream",
     "text": [
      "API key not found. Available output will be displayed. \n",
      "\n",
      "**Scoping Review: Reproducibility in Neuroimaging Research**\n",
      "\n",
      "**Introduction**\n",
      "Reproducibility remains a cornerstone of scientific inquiry, its importance amplified in the complex and rapidly evolving field of neuroimaging. Studies leveraging magnetic resonance imaging (MRI), magnetic resonance spectroscopy (MRS), and other neuroimaging modalities are inherently data-intensive and computationally demanding. Ensuring reproducibility thus poses a unique set of challenges and necessitates the diligent application of methods that foster transparency, verification, and extension of research findings. This scoping review examines the current landscape of reproducible research practices in neuroimaging across various studies, drawing attention to common strategies, tools, and repositories used to achieve reproducible outcomes.\n",
      "\n",
      "**Methods and Techniques for Ensuring Reproducibility**\n",
      "Reproducibility in neuroimaging research is predicated upon the open sharing of comprehensive data sets, the code underlying data processing and analysis, and the complete details of the experimental setup. A review of recent neuroimaging research articles reveals several key themes central to facilitating reproducibility in the field:\n",
      "\n",
      "1. **Open-Source Software and Code Sharing:** The widespread adoption of open-source software such as FSL-MRS for MRS analysis, hMRI for MRI analysis, and Dockerfiles for environment replication reveals a community trend towards accessible and transparent computational tools. Papers detailing deep learning approaches, such as DeepCEST for chemical exchange saturation transfer (CEST) MRI analysis, typically accompany methodological descriptions with shared code repositories and pre-trained models. These resources enable other scientists to test, apply, and enhance the computational techniques introduced.\n",
      "\n",
      "2. **Data Sharing and Standardization:** The growing endorsement of data sharing is reflected in the number of studies providing access to raw imaging data, pre-processing pipelines, and post-analysis results. Efforts to standardize data formats, such as using NIfTI for spectroscopy data or adhering to Brain Imaging Data Structure (BIDS) for organizing complex datasets, are of increasing importance. Repositories like Zenodo, XNAT, and the Open Science Framework (OSF) serve as vital resources for housing and curating neuroimaging data.\n",
      "\n",
      "3. **Integration of Hardware and Software:** Several studies such as those integrating RF coils with commercial field cameras for ultrahigh-field MRI or developing vendor-neutral imaging sequences for quantitative MRI exemplify the coupling of hardware advancements with software solutions. Sharing design files (e.g., CAD) and performance data ensures that hardware innovations can be reproduced and utilized by other researchers.\n",
      "\n",
      "4. **Quality Assurance and Validation:** Implementing quality assurance (QA) measures is essential for the validation of neuroimaging findings. The introduction of tools for automated QA processes, as seen in the development of platforms like PreQual for DWI analysis, signifies an emphasis on ensuring the integrity and reliability of neuroimaging data.\n",
      "\n",
      "**Discussion and Future Directions**\n",
      "The components of reproducibility in neuroimaging research are multifaceted, integrating not just data and code, but also the analytical pipelines and hardware configurations. The shift towards comprehensive sharing is motivated both by a scientific ethic of transparency and the practical need for rigorous validation of complex methodologies. As computational resources become more sophisticated, there are increasing calls for the incorporation of standardized descriptors, metadata, and data formats within the community.\n",
      "\n",
      "Reproducibility is also bolstered by interactive documentation and tools such as Jupyter Notebooks, allowing for dynamic presentation and hands-on engagement with data and methods. Platforms incorporating such interactive elements are being utilized with greater frequency, providing real-time demonstration of analysis techniques and enabling peer-led validation.\n",
      "\n",
      "The rise of machine learning and artificial intelligence in neuroimaging demands meticulous scrutiny for reproducibility. Studies implementing these technologies are beginning to pair their methodological descriptions with the open-source code, trained models, and simulation tools that underpin their algorithms.\n",
      "\n",
      "**Conclusion**\n",
      "The progress towards reproducibility in neuroimaging research points to a distinct cultural shift in the scientific community. The move towards open-access publishing, code-sharing platforms, and data repositories reflects a concerted effort to uphold the reproducibility of complex imaging studies. The initiatives and tools identified in this review serve as a blueprint for future studies to replicate successful practices, safeguards against bias, and accelerate neuroscientific discovery. As neuroimaging research continues to advance, upholding the principles of reproducibility will be essential to maintaining the integrity and translational potential of its findings.\n"
     ]
    }
   ],
   "source": [
    "# List of dictionaries\n",
    "if config['OPENAI_KEY']:\n",
    "    # THIS ASSUMES THAT THE OUTPUT WAS MADE AVAILABLE IN THE PREVIOUS CELL    \n",
    "    messages.append({\"role\": \"user\", \"content\": f\"Generate a comprehensive scoping review on the reproducibility of neuroimaging, incorporating insights from the 31 articles you summarized in our previous conversation. Provide examples and key findings to offer a thorough examination of the current state of reproducibility in neuroimaging research.\"})\n",
    "    \n",
    "    response = client.chat.completions.create(\n",
    "       model=\"gpt-4-1106-preview\",\n",
    "       messages= messages)\n",
    "    \n",
    "    cur_response = {\"role\": \"assistant\", \"content\": response.choices[0].message.content}\n",
    "    messages.append(cur_response)\n",
    "    \n",
    "    article = messages[-1]['content']\n",
    "    \n",
    "    with open(get_output_dir('review_article_summary.txt'), 'w') as file:\n",
    "        file.write(article)\n",
    "    \n",
    "    print(messages[-1]['content'])\n",
    "else:\n",
    "    # Simply print the output\n",
    "    print('API key not found. An example output will be displayed from the previous results. \\n')\n",
    "    gpt_txt = read_file(os.path.join(DATA_ROOT, \"review1.txt\"))\n",
    "    print(gpt_txt)"
   ]
  },
  {
   "cell_type": "markdown",
   "id": "a11f53e0-9c53-4a87-b4e5-ef7527a70ab1",
   "metadata": {
    "editable": true,
    "slideshow": {
     "slide_type": ""
    },
    "tags": []
   },
   "source": [
    "```{admonition} Save outputs\n",
    "Save GPT-generated summaries with matching paper IDs\n",
    "```"
   ]
  },
  {
   "cell_type": "code",
   "execution_count": 56,
   "id": "433bffa7-ea80-4ac0-aa23-51b0482528e0",
   "metadata": {
    "editable": true,
    "slideshow": {
     "slide_type": ""
    },
    "tags": [
     "hide-input"
    ]
   },
   "outputs": [],
   "source": [
    "if config['OPENAI_KEY']:\n",
    "\n",
    "    # messages variable should be in scope. Please see previous cells.\n",
    "    # Fetch this from the saved data\n",
    "    input_files = [os.path.join(DATA_ROOT, \"gpt_insights_parsed_nov23\", f) for f in os.listdir(directory_path) if f.endswith('.txt')]\n",
    "    \n",
    "    if not os.path.exists(get_output_dir(\"summary\")):\n",
    "        os.mkdir(get_output_dir(\"summary\"))\n",
    "    \n",
    "    summary_files = [os.path.join(get_output_dir(\"summary\"), f) for f in os.listdir(directory_path) if f.endswith('.txt')]\n",
    "    \n",
    "    large_summary = ''\n",
    "    it = 0\n",
    "    for msg in messages:\n",
    "        if msg['role'] == \"assistant\":\n",
    "            large_summary += \"\\n\" + msg['content'] + \"\\n ---------------------------- \\n\"\n",
    "            write_file(summary_files[it],msg['content'])\n",
    "            it = it +1 \n",
    "    \n",
    "    write_file(get_output_dir('gpt_combined_summaries.txt'),large_summary)\n",
    "else:\n",
    "    print('API key not found. 3 example outputs will be displayed. \\n')\n",
    "    gpt_outputs = os.path.join(DATA_ROOT, \"gpt_chat.pkl\")\n",
    "    messages = read_pickle(gpt_outputs)\n",
    "    it = 0\n",
    "    for msg in messages:\n",
    "        if msg['role'] == \"assistant\":\n",
    "           print(msg['content'] + '\\n')\n",
    "           it+=1\n",
    "        if it == 3:\n",
    "            break\n",
    "    "
   ]
  },
  {
   "cell_type": "markdown",
   "id": "a9b18b8f-435e-4e0b-b8a2-18d8cf4f4cdb",
   "metadata": {
    "editable": true,
    "slideshow": {
     "slide_type": ""
    },
    "tags": []
   },
   "source": [
    "```{admonition} Create GPT embeddings\n",
    "Use `text-embedding-ada-002` model to create embeddings for the summaries.\n",
    "```"
   ]
  },
  {
   "cell_type": "code",
   "execution_count": 62,
   "id": "a4504bb8-1deb-4a62-85a4-5b50f00ecf6c",
   "metadata": {
    "editable": true,
    "slideshow": {
     "slide_type": ""
    },
    "tags": [
     "hide-input"
    ]
   },
   "outputs": [
    {
     "name": "stdout",
     "output_type": "stream",
     "text": [
      "                                             summary  n_tokens  \\\n",
      "0  Keywords: 31P‐SPAWNN, neural networks, reprodu...       201   \n",
      "1  Keywords: Cystic Fibrosis, Hyperpolarized 129X...       203   \n",
      "2  Keywords: Dynamic MRI, Non-gated Acquisition, ...       190   \n",
      "3  Keywords: Real-Time MRI, Speech Production, 3D...       215   \n",
      "4  Keywords: Inhomogeneous Magnetization Transfer...       195   \n",
      "\n",
      "                                           embedding  \n",
      "0  [-0.012139617465436459, 0.015481614507734776, ...  \n",
      "1  [-0.0038842952344566584, 0.019686615094542503,...  \n",
      "2  [-0.025156814604997635, 0.017279978841543198, ...  \n",
      "3  [-0.028323667123913765, 0.013008967973291874, ...  \n",
      "4  [-0.038999006152153015, 0.013461689464747906, ...  \n"
     ]
    }
   ],
   "source": [
    "if config['OPENAI_KEY']:\n",
    "    # Output path will be checked for the summaries \n",
    "    summary_files = [os.path.join(get_output_dir(\"summary\", f)) for f in os.listdir(directory_path) if f.endswith('.txt')]\n",
    "    \n",
    "    # List to store summaries\n",
    "    summaries = []\n",
    "    \n",
    "    # Iterate through each txt file in the directory\n",
    "    for filename in summary_files:\n",
    "        content = read_file(filename)\n",
    "        summaries.append(content)\n",
    "    \n",
    "    # Create a Pandas DataFrame with a column named 'summary'\n",
    "    df = pd.DataFrame({'summary': summaries})\n",
    "    \n",
    "    embedding_model = \"text-embedding-ada-002\"\n",
    "    embedding_encoding = \"cl100k_base\"  # this the encoding for text-embedding-ada-002\n",
    "    max_tokens = 8000\n",
    "    top_n = 1000\n",
    "    \n",
    "    encoding = tiktoken.get_encoding(embedding_encoding)\n",
    "    \n",
    "    # omit reviews that are too long to embed\n",
    "    df[\"n_tokens\"] = df.summary.apply(lambda x: len(encoding.encode(x)))\n",
    "    df = df[df.n_tokens <= max_tokens].tail(top_n)\n",
    "\n",
    "    # Call GPT for embedding\n",
    "    df[\"embedding\"] = df.summary.apply(lambda x: get_embedding(x, model='text-embedding-ada-002'))\n",
    "    df.to_csv(get_output_dir('gpt_summary_embedding.csv'), index=False)\n",
    "else:\n",
    "    # Read embedding data that has been saved\n",
    "    df = pd.read_csv(os.path.join(DATA_ROOT,'gpt_summary_embedding_nov23.csv'))\n",
    "    print(df.head())"
   ]
  },
  {
   "cell_type": "code",
   "execution_count": 81,
   "id": "1d7f336a-e239-4fbd-9c45-ba97b7351a8d",
   "metadata": {
    "editable": true,
    "slideshow": {
     "slide_type": ""
    },
    "tags": [
     "hide-input"
    ]
   },
   "outputs": [
    {
     "data": {
      "application/vnd.plotly.v1+json": {
       "config": {
        "plotlyServerURL": "https://plot.ly"
       },
       "data": [
        {
         "customdata": [
          "Keywords: 31P‐SPAWNN, neural networks, reproducibility, magnetic resonance spectroscopy",
          "Keywords: Cystic Fibrosis, Hyperpolarized 129Xe MRI, Dynamic 19F MRI, Ventilation Abnormalities",
          "Keywords: Dynamic MRI, Non-gated Acquisition, Large-scale Volumetric Imaging, Pulmonary Imaging",
          "Keywords: Real-Time MRI, Speech Production, 3D Reconstruction, Variable-Density Sampling",
          "Keywords: Inhomogeneous Magnetization Transfer, Multiband RF Pulses, Myelin Imaging, Steady-State MRI",
          "Keywords: Gamma GLM, MRI Relaxometry, CV Analysis, Data Fitting",
          "Keywords: Complex-Valued CNNs, MRI Reconstruction, Phase Imaging, Deep Learning",
          "Keywords: 2-Voxel MRS, 2SPECIAL Sequence, vGRAPPA Decomposition, 7T MRI",
          "Keywords: Free-Water Estimation, Fast Diffusion MRI, Spherical Means Technique, White Matter",
          "Keywords: Parallel Transmit Mapping, Accelerated MRI, Calibrationless Imaging, Low-rank Tensor Completion",
          "Keywords: B1 Inhomogeneity Correction, Magnetization Transfer Saturation, Numerical Simulation, MRI Mapping",
          "Keywords: Myelin Water Fraction, Small-Tip Fast Recovery MRI, Optimization, Brain Imaging",
          "Keywords: Segmentation, Hyperpolarized Gas MRI, Algorithm Comparison, Pulmonary Imaging",
          "Keywords: Myelin Water Imaging, Artificial Neural Network, Deep Learning, Real-Time Processing",
          "Keywords: Arterial Spin Labeling, Velocity-Selective ASL, Cerebral Blood Flow, Transit Time Measurement",
          "Keywords: MRI Sequence Programming, Pulse Sequence, Vendor-Independence, Modular Development",
          "Keywords: Quantitative MRI, Vendor-Neutral Sequences, Reproducibility, Multi-Center Studies",
          "Keywords: Deep Neural Network, Intravoxel Incoherent Motion, Diffusion-Weighted MRI, Quantitative Analysis",
          "Keywords: Phase Unwrapping, Minimum Spanning Tree, Quantitative MRI, High Field Strength MRI",
          "Keywords: Deep Learning, Adipose Tissue Segmentation, Dixon MRI, Automation",
          "Keywords: Magnetization Transfer, Bloch Model, Classical Model, Semi-solid Spin Pool",
          "Keywords: Motion Artifacts Correction, R1 Mapping, 7T MRI, Quantitative Analysis",
          "Keywords: Diffusion Weighted Imaging, Automated Processing Pipeline, Quality Assurance, Deep Learning",
          "Keywords: Deep Learning, Quantitative R1 Mapping, Motion Artifacts, 7T MRI",
          "Keywords: Deep Learning, SAR Efficiency, FLAIR MRI, B1+ Estimation",
          "Keywords: Dual Bandwidths, Dixon MRI, RARE Imaging, SNR Improvement",
          "Keywords: Baseline Fitting, MR Spectroscopy, Algorithm Development, Quantitative Analysis",
          "Keywords: Deep Learning, CEST MRI, AREX, Alzheimer’s Imaging",
          "Keywords: B1 Inhomogeneity, RARE MRI, Surface RF Coils, Quantitative MRI",
          "Keywords: Magnetic Resonance Spectroscopy, Toolbox, FSL-MRS, Open-Source",
          "Keywords: RF Coil, Field Monitoring, Ultra-High Field MRI, Spiral Imaging"
         ],
         "hovertemplate": "%{customdata}",
         "marker": {
          "color": [
           1111,
           1081,
           1054,
           1158,
           1034,
           1073,
           1099,
           1249,
           1222,
           1320,
           1207,
           1273,
           1266,
           1176,
           1254,
           1227,
           1345,
           1251,
           1363,
           1077,
           1319,
           1158,
           1214,
           852,
           1122,
           1088,
           1139,
           951,
           1090,
           1110,
           1062
          ],
          "colorbar": {
           "thickness": 10,
           "title": {
            "text": "N chars"
           },
           "x": 1.1,
           "y": 0.5
          },
          "opacity": 0.9,
          "size": 9
         },
         "mode": "markers",
         "name": "",
         "type": "scatter",
         "visible": true,
         "x": [
          113.6137924194336,
          209.18490600585938,
          144.60195922851562,
          79.5306396484375,
          7.458632946014404,
          -10.331596374511719,
          -54.686702728271484,
          158.2992401123047,
          -44.90778350830078,
          -107.84524536132812,
          43.7473258972168,
          -92.06568145751953,
          158.13449096679688,
          -113.71170806884766,
          -217.35089111328125,
          137.12339782714844,
          88.926513671875,
          -106.16204071044922,
          33.6480598449707,
          -141.65296936035156,
          68.7784652709961,
          -108.88184356689453,
          -152.43551635742188,
          -72.539306640625,
          -42.675437927246094,
          36.71245193481445,
          -192.04800415039062,
          -19.019636154174805,
          19.26494789123535,
          83.38179016113281,
          -33.90532684326172
         ],
         "y": [
          112.87879943847656,
          -115.62999725341797,
          -90.24002075195312,
          47.39910888671875,
          -182.50079345703125,
          44.50485610961914,
          110.12831115722656,
          51.850929260253906,
          262.6789245605469,
          -50.045265197753906,
          -149.13836669921875,
          261.6273498535156,
          -145.17178344726562,
          192.14541625976562,
          -84.68102264404297,
          -16.099767684936523,
          -29.438283920288086,
          135.12594604492188,
          -18.39708709716797,
          -148.21688842773438,
          -218.4678192138672,
          14.987456321716309,
          100.05956268310547,
          37.03606414794922,
          -24.632463455200195,
          91.91123962402344,
          23.82480239868164,
          154.74037170410156,
          -93.52978515625,
          171.77488708496094,
          -101.17353057861328
         ]
        }
       ],
       "layout": {
        "height": 900,
        "hovermode": "closest",
        "showlegend": true,
        "template": {
         "data": {
          "bar": [
           {
            "error_x": {
             "color": "#f2f5fa"
            },
            "error_y": {
             "color": "#f2f5fa"
            },
            "marker": {
             "line": {
              "color": "rgb(17,17,17)",
              "width": 0.5
             },
             "pattern": {
              "fillmode": "overlay",
              "size": 10,
              "solidity": 0.2
             }
            },
            "type": "bar"
           }
          ],
          "barpolar": [
           {
            "marker": {
             "line": {
              "color": "rgb(17,17,17)",
              "width": 0.5
             },
             "pattern": {
              "fillmode": "overlay",
              "size": 10,
              "solidity": 0.2
             }
            },
            "type": "barpolar"
           }
          ],
          "carpet": [
           {
            "aaxis": {
             "endlinecolor": "#A2B1C6",
             "gridcolor": "#506784",
             "linecolor": "#506784",
             "minorgridcolor": "#506784",
             "startlinecolor": "#A2B1C6"
            },
            "baxis": {
             "endlinecolor": "#A2B1C6",
             "gridcolor": "#506784",
             "linecolor": "#506784",
             "minorgridcolor": "#506784",
             "startlinecolor": "#A2B1C6"
            },
            "type": "carpet"
           }
          ],
          "choropleth": [
           {
            "colorbar": {
             "outlinewidth": 0,
             "ticks": ""
            },
            "type": "choropleth"
           }
          ],
          "contour": [
           {
            "colorbar": {
             "outlinewidth": 0,
             "ticks": ""
            },
            "colorscale": [
             [
              0,
              "#0d0887"
             ],
             [
              0.1111111111111111,
              "#46039f"
             ],
             [
              0.2222222222222222,
              "#7201a8"
             ],
             [
              0.3333333333333333,
              "#9c179e"
             ],
             [
              0.4444444444444444,
              "#bd3786"
             ],
             [
              0.5555555555555556,
              "#d8576b"
             ],
             [
              0.6666666666666666,
              "#ed7953"
             ],
             [
              0.7777777777777778,
              "#fb9f3a"
             ],
             [
              0.8888888888888888,
              "#fdca26"
             ],
             [
              1,
              "#f0f921"
             ]
            ],
            "type": "contour"
           }
          ],
          "contourcarpet": [
           {
            "colorbar": {
             "outlinewidth": 0,
             "ticks": ""
            },
            "type": "contourcarpet"
           }
          ],
          "heatmap": [
           {
            "colorbar": {
             "outlinewidth": 0,
             "ticks": ""
            },
            "colorscale": [
             [
              0,
              "#0d0887"
             ],
             [
              0.1111111111111111,
              "#46039f"
             ],
             [
              0.2222222222222222,
              "#7201a8"
             ],
             [
              0.3333333333333333,
              "#9c179e"
             ],
             [
              0.4444444444444444,
              "#bd3786"
             ],
             [
              0.5555555555555556,
              "#d8576b"
             ],
             [
              0.6666666666666666,
              "#ed7953"
             ],
             [
              0.7777777777777778,
              "#fb9f3a"
             ],
             [
              0.8888888888888888,
              "#fdca26"
             ],
             [
              1,
              "#f0f921"
             ]
            ],
            "type": "heatmap"
           }
          ],
          "heatmapgl": [
           {
            "colorbar": {
             "outlinewidth": 0,
             "ticks": ""
            },
            "colorscale": [
             [
              0,
              "#0d0887"
             ],
             [
              0.1111111111111111,
              "#46039f"
             ],
             [
              0.2222222222222222,
              "#7201a8"
             ],
             [
              0.3333333333333333,
              "#9c179e"
             ],
             [
              0.4444444444444444,
              "#bd3786"
             ],
             [
              0.5555555555555556,
              "#d8576b"
             ],
             [
              0.6666666666666666,
              "#ed7953"
             ],
             [
              0.7777777777777778,
              "#fb9f3a"
             ],
             [
              0.8888888888888888,
              "#fdca26"
             ],
             [
              1,
              "#f0f921"
             ]
            ],
            "type": "heatmapgl"
           }
          ],
          "histogram": [
           {
            "marker": {
             "pattern": {
              "fillmode": "overlay",
              "size": 10,
              "solidity": 0.2
             }
            },
            "type": "histogram"
           }
          ],
          "histogram2d": [
           {
            "colorbar": {
             "outlinewidth": 0,
             "ticks": ""
            },
            "colorscale": [
             [
              0,
              "#0d0887"
             ],
             [
              0.1111111111111111,
              "#46039f"
             ],
             [
              0.2222222222222222,
              "#7201a8"
             ],
             [
              0.3333333333333333,
              "#9c179e"
             ],
             [
              0.4444444444444444,
              "#bd3786"
             ],
             [
              0.5555555555555556,
              "#d8576b"
             ],
             [
              0.6666666666666666,
              "#ed7953"
             ],
             [
              0.7777777777777778,
              "#fb9f3a"
             ],
             [
              0.8888888888888888,
              "#fdca26"
             ],
             [
              1,
              "#f0f921"
             ]
            ],
            "type": "histogram2d"
           }
          ],
          "histogram2dcontour": [
           {
            "colorbar": {
             "outlinewidth": 0,
             "ticks": ""
            },
            "colorscale": [
             [
              0,
              "#0d0887"
             ],
             [
              0.1111111111111111,
              "#46039f"
             ],
             [
              0.2222222222222222,
              "#7201a8"
             ],
             [
              0.3333333333333333,
              "#9c179e"
             ],
             [
              0.4444444444444444,
              "#bd3786"
             ],
             [
              0.5555555555555556,
              "#d8576b"
             ],
             [
              0.6666666666666666,
              "#ed7953"
             ],
             [
              0.7777777777777778,
              "#fb9f3a"
             ],
             [
              0.8888888888888888,
              "#fdca26"
             ],
             [
              1,
              "#f0f921"
             ]
            ],
            "type": "histogram2dcontour"
           }
          ],
          "mesh3d": [
           {
            "colorbar": {
             "outlinewidth": 0,
             "ticks": ""
            },
            "type": "mesh3d"
           }
          ],
          "parcoords": [
           {
            "line": {
             "colorbar": {
              "outlinewidth": 0,
              "ticks": ""
             }
            },
            "type": "parcoords"
           }
          ],
          "pie": [
           {
            "automargin": true,
            "type": "pie"
           }
          ],
          "scatter": [
           {
            "marker": {
             "line": {
              "color": "#283442"
             }
            },
            "type": "scatter"
           }
          ],
          "scatter3d": [
           {
            "line": {
             "colorbar": {
              "outlinewidth": 0,
              "ticks": ""
             }
            },
            "marker": {
             "colorbar": {
              "outlinewidth": 0,
              "ticks": ""
             }
            },
            "type": "scatter3d"
           }
          ],
          "scattercarpet": [
           {
            "marker": {
             "colorbar": {
              "outlinewidth": 0,
              "ticks": ""
             }
            },
            "type": "scattercarpet"
           }
          ],
          "scattergeo": [
           {
            "marker": {
             "colorbar": {
              "outlinewidth": 0,
              "ticks": ""
             }
            },
            "type": "scattergeo"
           }
          ],
          "scattergl": [
           {
            "marker": {
             "line": {
              "color": "#283442"
             }
            },
            "type": "scattergl"
           }
          ],
          "scattermapbox": [
           {
            "marker": {
             "colorbar": {
              "outlinewidth": 0,
              "ticks": ""
             }
            },
            "type": "scattermapbox"
           }
          ],
          "scatterpolar": [
           {
            "marker": {
             "colorbar": {
              "outlinewidth": 0,
              "ticks": ""
             }
            },
            "type": "scatterpolar"
           }
          ],
          "scatterpolargl": [
           {
            "marker": {
             "colorbar": {
              "outlinewidth": 0,
              "ticks": ""
             }
            },
            "type": "scatterpolargl"
           }
          ],
          "scatterternary": [
           {
            "marker": {
             "colorbar": {
              "outlinewidth": 0,
              "ticks": ""
             }
            },
            "type": "scatterternary"
           }
          ],
          "surface": [
           {
            "colorbar": {
             "outlinewidth": 0,
             "ticks": ""
            },
            "colorscale": [
             [
              0,
              "#0d0887"
             ],
             [
              0.1111111111111111,
              "#46039f"
             ],
             [
              0.2222222222222222,
              "#7201a8"
             ],
             [
              0.3333333333333333,
              "#9c179e"
             ],
             [
              0.4444444444444444,
              "#bd3786"
             ],
             [
              0.5555555555555556,
              "#d8576b"
             ],
             [
              0.6666666666666666,
              "#ed7953"
             ],
             [
              0.7777777777777778,
              "#fb9f3a"
             ],
             [
              0.8888888888888888,
              "#fdca26"
             ],
             [
              1,
              "#f0f921"
             ]
            ],
            "type": "surface"
           }
          ],
          "table": [
           {
            "cells": {
             "fill": {
              "color": "#506784"
             },
             "line": {
              "color": "rgb(17,17,17)"
             }
            },
            "header": {
             "fill": {
              "color": "#2a3f5f"
             },
             "line": {
              "color": "rgb(17,17,17)"
             }
            },
            "type": "table"
           }
          ]
         },
         "layout": {
          "annotationdefaults": {
           "arrowcolor": "#f2f5fa",
           "arrowhead": 0,
           "arrowwidth": 1
          },
          "autotypenumbers": "strict",
          "coloraxis": {
           "colorbar": {
            "outlinewidth": 0,
            "ticks": ""
           }
          },
          "colorscale": {
           "diverging": [
            [
             0,
             "#8e0152"
            ],
            [
             0.1,
             "#c51b7d"
            ],
            [
             0.2,
             "#de77ae"
            ],
            [
             0.3,
             "#f1b6da"
            ],
            [
             0.4,
             "#fde0ef"
            ],
            [
             0.5,
             "#f7f7f7"
            ],
            [
             0.6,
             "#e6f5d0"
            ],
            [
             0.7,
             "#b8e186"
            ],
            [
             0.8,
             "#7fbc41"
            ],
            [
             0.9,
             "#4d9221"
            ],
            [
             1,
             "#276419"
            ]
           ],
           "sequential": [
            [
             0,
             "#0d0887"
            ],
            [
             0.1111111111111111,
             "#46039f"
            ],
            [
             0.2222222222222222,
             "#7201a8"
            ],
            [
             0.3333333333333333,
             "#9c179e"
            ],
            [
             0.4444444444444444,
             "#bd3786"
            ],
            [
             0.5555555555555556,
             "#d8576b"
            ],
            [
             0.6666666666666666,
             "#ed7953"
            ],
            [
             0.7777777777777778,
             "#fb9f3a"
            ],
            [
             0.8888888888888888,
             "#fdca26"
            ],
            [
             1,
             "#f0f921"
            ]
           ],
           "sequentialminus": [
            [
             0,
             "#0d0887"
            ],
            [
             0.1111111111111111,
             "#46039f"
            ],
            [
             0.2222222222222222,
             "#7201a8"
            ],
            [
             0.3333333333333333,
             "#9c179e"
            ],
            [
             0.4444444444444444,
             "#bd3786"
            ],
            [
             0.5555555555555556,
             "#d8576b"
            ],
            [
             0.6666666666666666,
             "#ed7953"
            ],
            [
             0.7777777777777778,
             "#fb9f3a"
            ],
            [
             0.8888888888888888,
             "#fdca26"
            ],
            [
             1,
             "#f0f921"
            ]
           ]
          },
          "colorway": [
           "#636efa",
           "#EF553B",
           "#00cc96",
           "#ab63fa",
           "#FFA15A",
           "#19d3f3",
           "#FF6692",
           "#B6E880",
           "#FF97FF",
           "#FECB52"
          ],
          "font": {
           "color": "#f2f5fa"
          },
          "geo": {
           "bgcolor": "rgb(17,17,17)",
           "lakecolor": "rgb(17,17,17)",
           "landcolor": "rgb(17,17,17)",
           "showlakes": true,
           "showland": true,
           "subunitcolor": "#506784"
          },
          "hoverlabel": {
           "align": "left"
          },
          "hovermode": "closest",
          "mapbox": {
           "style": "dark"
          },
          "paper_bgcolor": "rgb(17,17,17)",
          "plot_bgcolor": "rgb(17,17,17)",
          "polar": {
           "angularaxis": {
            "gridcolor": "#506784",
            "linecolor": "#506784",
            "ticks": ""
           },
           "bgcolor": "rgb(17,17,17)",
           "radialaxis": {
            "gridcolor": "#506784",
            "linecolor": "#506784",
            "ticks": ""
           }
          },
          "scene": {
           "xaxis": {
            "backgroundcolor": "rgb(17,17,17)",
            "gridcolor": "#506784",
            "gridwidth": 2,
            "linecolor": "#506784",
            "showbackground": true,
            "ticks": "",
            "zerolinecolor": "#C8D4E3"
           },
           "yaxis": {
            "backgroundcolor": "rgb(17,17,17)",
            "gridcolor": "#506784",
            "gridwidth": 2,
            "linecolor": "#506784",
            "showbackground": true,
            "ticks": "",
            "zerolinecolor": "#C8D4E3"
           },
           "zaxis": {
            "backgroundcolor": "rgb(17,17,17)",
            "gridcolor": "#506784",
            "gridwidth": 2,
            "linecolor": "#506784",
            "showbackground": true,
            "ticks": "",
            "zerolinecolor": "#C8D4E3"
           }
          },
          "shapedefaults": {
           "line": {
            "color": "#f2f5fa"
           }
          },
          "sliderdefaults": {
           "bgcolor": "#C8D4E3",
           "bordercolor": "rgb(17,17,17)",
           "borderwidth": 1,
           "tickwidth": 0
          },
          "ternary": {
           "aaxis": {
            "gridcolor": "#506784",
            "linecolor": "#506784",
            "ticks": ""
           },
           "baxis": {
            "gridcolor": "#506784",
            "linecolor": "#506784",
            "ticks": ""
           },
           "bgcolor": "rgb(17,17,17)",
           "caxis": {
            "gridcolor": "#506784",
            "linecolor": "#506784",
            "ticks": ""
           }
          },
          "title": {
           "x": 0.05
          },
          "updatemenudefaults": {
           "bgcolor": "#506784",
           "borderwidth": 0
          },
          "xaxis": {
           "automargin": true,
           "gridcolor": "#283442",
           "linecolor": "#506784",
           "ticks": "",
           "title": {
            "standoff": 15
           },
           "zerolinecolor": "#283442",
           "zerolinewidth": 2
          },
          "yaxis": {
           "automargin": true,
           "gridcolor": "#283442",
           "linecolor": "#506784",
           "ticks": "",
           "title": {
            "standoff": 15
           },
           "zerolinecolor": "#283442",
           "zerolinewidth": 2
          }
         }
        },
        "title": {
         "text": "t-SNE based visualization of the summary embeddings"
        },
        "width": 936,
        "xaxis": {
         "autorange": true,
         "range": [
          -245.34950895855042,
          237.18352385112854
         ],
         "showticklabels": false,
         "type": "linear",
         "visible": false
        },
        "yaxis": {
         "autorange": true,
         "range": [
          -249.92087490230062,
          294.1319802489803
         ],
         "showticklabels": false,
         "type": "linear",
         "visible": false
        }
       }
      },
      "image/png": "[encoded data removed]",
      "text/html": [
       "<div>                            <div id=\"a72a3582-73b6-4ec6-8968-2837de95cd34\" class=\"plotly-graph-div\" style=\"height:900px; width:936px;\"></div>            <script type=\"text/javascript\">                require([\"plotly\"], function(Plotly) {                    window.PLOTLYENV=window.PLOTLYENV || {};                                    if (document.getElementById(\"a72a3582-73b6-4ec6-8968-2837de95cd34\")) {                    Plotly.newPlot(                        \"a72a3582-73b6-4ec6-8968-2837de95cd34\",                        [{\"customdata\":[\"Keywords: 31P\\u2010SPAWNN, neural networks, reproducibility, magnetic resonance spectroscopy\",\"Keywords: Cystic Fibrosis, Hyperpolarized 129Xe MRI, Dynamic 19F MRI, Ventilation Abnormalities\",\"Keywords: Dynamic MRI, Non-gated Acquisition, Large-scale Volumetric Imaging, Pulmonary Imaging\",\"Keywords: Real-Time MRI, Speech Production, 3D Reconstruction, Variable-Density Sampling\",\"Keywords: Inhomogeneous Magnetization Transfer, Multiband RF Pulses, Myelin Imaging, Steady-State MRI\",\"Keywords: Gamma GLM, MRI Relaxometry, CV Analysis, Data Fitting\",\"Keywords: Complex-Valued CNNs, MRI Reconstruction, Phase Imaging, Deep Learning\",\"Keywords: 2-Voxel MRS, 2SPECIAL Sequence, vGRAPPA Decomposition, 7T MRI\",\"Keywords: Free-Water Estimation, Fast Diffusion MRI, Spherical Means Technique, White Matter\",\"Keywords: Parallel Transmit Mapping, Accelerated MRI, Calibrationless Imaging, Low-rank Tensor Completion\",\"Keywords: B1 Inhomogeneity Correction, Magnetization Transfer Saturation, Numerical Simulation, MRI Mapping\",\"Keywords: Myelin Water Fraction, Small-Tip Fast Recovery MRI, Optimization, Brain Imaging\",\"Keywords: Segmentation, Hyperpolarized Gas MRI, Algorithm Comparison, Pulmonary Imaging\",\"Keywords: Myelin Water Imaging, Artificial Neural Network, Deep Learning, Real-Time Processing\",\"Keywords: Arterial Spin Labeling, Velocity-Selective ASL, Cerebral Blood Flow, Transit Time Measurement\",\"Keywords: MRI Sequence Programming, Pulse Sequence, Vendor-Independence, Modular Development\",\"Keywords: Quantitative MRI, Vendor-Neutral Sequences, Reproducibility, Multi-Center Studies\",\"Keywords: Deep Neural Network, Intravoxel Incoherent Motion, Diffusion-Weighted MRI, Quantitative Analysis\",\"Keywords: Phase Unwrapping, Minimum Spanning Tree, Quantitative MRI, High Field Strength MRI\",\"Keywords: Deep Learning, Adipose Tissue Segmentation, Dixon MRI, Automation\",\"Keywords: Magnetization Transfer, Bloch Model, Classical Model, Semi-solid Spin Pool\",\"Keywords: Motion Artifacts Correction, R1 Mapping, 7T MRI, Quantitative Analysis\",\"Keywords: Diffusion Weighted Imaging, Automated Processing Pipeline, Quality Assurance, Deep Learning\",\"Keywords: Deep Learning, Quantitative R1 Mapping, Motion Artifacts, 7T MRI\",\"Keywords: Deep Learning, SAR Efficiency, FLAIR MRI, B1+ Estimation\",\"Keywords: Dual Bandwidths, Dixon MRI, RARE Imaging, SNR Improvement\",\"Keywords: Baseline Fitting, MR Spectroscopy, Algorithm Development, Quantitative Analysis\",\"Keywords: Deep Learning, CEST MRI, AREX, Alzheimer\\u2019s Imaging\",\"Keywords: B1 Inhomogeneity, RARE MRI, Surface RF Coils, Quantitative MRI\",\"Keywords: Magnetic Resonance Spectroscopy, Toolbox, FSL-MRS, Open-Source\",\"Keywords: RF Coil, Field Monitoring, Ultra-High Field MRI, Spiral Imaging\"],\"hovertemplate\":\"%{customdata}\",\"marker\":{\"color\":[1111,1081,1054,1158,1034,1073,1099,1249,1222,1320,1207,1273,1266,1176,1254,1227,1345,1251,1363,1077,1319,1158,1214,852,1122,1088,1139,951,1090,1110,1062],\"colorbar\":{\"thickness\":10,\"title\":{\"text\":\"N chars\"},\"x\":1.1},\"opacity\":0.9,\"size\":9},\"mode\":\"markers\",\"name\":\"\",\"visible\":true,\"x\":[113.6137924194336,209.18490600585938,144.60195922851562,79.5306396484375,7.458632946014404,-10.331596374511719,-54.686702728271484,158.2992401123047,-44.90778350830078,-107.84524536132812,43.7473258972168,-92.06568145751953,158.13449096679688,-113.71170806884766,-217.35089111328125,137.12339782714844,88.926513671875,-106.16204071044922,33.6480598449707,-141.65296936035156,68.7784652709961,-108.88184356689453,-152.43551635742188,-72.539306640625,-42.675437927246094,36.71245193481445,-192.04800415039062,-19.019636154174805,19.26494789123535,83.38179016113281,-33.90532684326172],\"y\":[112.87879943847656,-115.62999725341797,-90.24002075195312,47.39910888671875,-182.50079345703125,44.50485610961914,110.12831115722656,51.850929260253906,262.6789245605469,-50.045265197753906,-149.13836669921875,261.6273498535156,-145.17178344726562,192.14541625976562,-84.68102264404297,-16.099767684936523,-29.438283920288086,135.12594604492188,-18.39708709716797,-148.21688842773438,-218.4678192138672,14.987456321716309,100.05956268310547,37.03606414794922,-24.632463455200195,91.91123962402344,23.82480239868164,154.74037170410156,-93.52978515625,171.77488708496094,-101.17353057861328],\"type\":\"scatter\"}],                        {\"template\":{\"data\":{\"barpolar\":[{\"marker\":{\"line\":{\"color\":\"rgb(17,17,17)\",\"width\":0.5},\"pattern\":{\"fillmode\":\"overlay\",\"size\":10,\"solidity\":0.2}},\"type\":\"barpolar\"}],\"bar\":[{\"error_x\":{\"color\":\"#f2f5fa\"},\"error_y\":{\"color\":\"#f2f5fa\"},\"marker\":{\"line\":{\"color\":\"rgb(17,17,17)\",\"width\":0.5},\"pattern\":{\"fillmode\":\"overlay\",\"size\":10,\"solidity\":0.2}},\"type\":\"bar\"}],\"carpet\":[{\"aaxis\":{\"endlinecolor\":\"#A2B1C6\",\"gridcolor\":\"#506784\",\"linecolor\":\"#506784\",\"minorgridcolor\":\"#506784\",\"startlinecolor\":\"#A2B1C6\"},\"baxis\":{\"endlinecolor\":\"#A2B1C6\",\"gridcolor\":\"#506784\",\"linecolor\":\"#506784\",\"minorgridcolor\":\"#506784\",\"startlinecolor\":\"#A2B1C6\"},\"type\":\"carpet\"}],\"choropleth\":[{\"colorbar\":{\"outlinewidth\":0,\"ticks\":\"\"},\"type\":\"choropleth\"}],\"contourcarpet\":[{\"colorbar\":{\"outlinewidth\":0,\"ticks\":\"\"},\"type\":\"contourcarpet\"}],\"contour\":[{\"colorbar\":{\"outlinewidth\":0,\"ticks\":\"\"},\"colorscale\":[[0.0,\"#0d0887\"],[0.1111111111111111,\"#46039f\"],[0.2222222222222222,\"#7201a8\"],[0.3333333333333333,\"#9c179e\"],[0.4444444444444444,\"#bd3786\"],[0.5555555555555556,\"#d8576b\"],[0.6666666666666666,\"#ed7953\"],[0.7777777777777778,\"#fb9f3a\"],[0.8888888888888888,\"#fdca26\"],[1.0,\"#f0f921\"]],\"type\":\"contour\"}],\"heatmapgl\":[{\"colorbar\":{\"outlinewidth\":0,\"ticks\":\"\"},\"colorscale\":[[0.0,\"#0d0887\"],[0.1111111111111111,\"#46039f\"],[0.2222222222222222,\"#7201a8\"],[0.3333333333333333,\"#9c179e\"],[0.4444444444444444,\"#bd3786\"],[0.5555555555555556,\"#d8576b\"],[0.6666666666666666,\"#ed7953\"],[0.7777777777777778,\"#fb9f3a\"],[0.8888888888888888,\"#fdca26\"],[1.0,\"#f0f921\"]],\"type\":\"heatmapgl\"}],\"heatmap\":[{\"colorbar\":{\"outlinewidth\":0,\"ticks\":\"\"},\"colorscale\":[[0.0,\"#0d0887\"],[0.1111111111111111,\"#46039f\"],[0.2222222222222222,\"#7201a8\"],[0.3333333333333333,\"#9c179e\"],[0.4444444444444444,\"#bd3786\"],[0.5555555555555556,\"#d8576b\"],[0.6666666666666666,\"#ed7953\"],[0.7777777777777778,\"#fb9f3a\"],[0.8888888888888888,\"#fdca26\"],[1.0,\"#f0f921\"]],\"type\":\"heatmap\"}],\"histogram2dcontour\":[{\"colorbar\":{\"outlinewidth\":0,\"ticks\":\"\"},\"colorscale\":[[0.0,\"#0d0887\"],[0.1111111111111111,\"#46039f\"],[0.2222222222222222,\"#7201a8\"],[0.3333333333333333,\"#9c179e\"],[0.4444444444444444,\"#bd3786\"],[0.5555555555555556,\"#d8576b\"],[0.6666666666666666,\"#ed7953\"],[0.7777777777777778,\"#fb9f3a\"],[0.8888888888888888,\"#fdca26\"],[1.0,\"#f0f921\"]],\"type\":\"histogram2dcontour\"}],\"histogram2d\":[{\"colorbar\":{\"outlinewidth\":0,\"ticks\":\"\"},\"colorscale\":[[0.0,\"#0d0887\"],[0.1111111111111111,\"#46039f\"],[0.2222222222222222,\"#7201a8\"],[0.3333333333333333,\"#9c179e\"],[0.4444444444444444,\"#bd3786\"],[0.5555555555555556,\"#d8576b\"],[0.6666666666666666,\"#ed7953\"],[0.7777777777777778,\"#fb9f3a\"],[0.8888888888888888,\"#fdca26\"],[1.0,\"#f0f921\"]],\"type\":\"histogram2d\"}],\"histogram\":[{\"marker\":{\"pattern\":{\"fillmode\":\"overlay\",\"size\":10,\"solidity\":0.2}},\"type\":\"histogram\"}],\"mesh3d\":[{\"colorbar\":{\"outlinewidth\":0,\"ticks\":\"\"},\"type\":\"mesh3d\"}],\"parcoords\":[{\"line\":{\"colorbar\":{\"outlinewidth\":0,\"ticks\":\"\"}},\"type\":\"parcoords\"}],\"pie\":[{\"automargin\":true,\"type\":\"pie\"}],\"scatter3d\":[{\"line\":{\"colorbar\":{\"outlinewidth\":0,\"ticks\":\"\"}},\"marker\":{\"colorbar\":{\"outlinewidth\":0,\"ticks\":\"\"}},\"type\":\"scatter3d\"}],\"scattercarpet\":[{\"marker\":{\"colorbar\":{\"outlinewidth\":0,\"ticks\":\"\"}},\"type\":\"scattercarpet\"}],\"scattergeo\":[{\"marker\":{\"colorbar\":{\"outlinewidth\":0,\"ticks\":\"\"}},\"type\":\"scattergeo\"}],\"scattergl\":[{\"marker\":{\"line\":{\"color\":\"#283442\"}},\"type\":\"scattergl\"}],\"scattermapbox\":[{\"marker\":{\"colorbar\":{\"outlinewidth\":0,\"ticks\":\"\"}},\"type\":\"scattermapbox\"}],\"scatterpolargl\":[{\"marker\":{\"colorbar\":{\"outlinewidth\":0,\"ticks\":\"\"}},\"type\":\"scatterpolargl\"}],\"scatterpolar\":[{\"marker\":{\"colorbar\":{\"outlinewidth\":0,\"ticks\":\"\"}},\"type\":\"scatterpolar\"}],\"scatter\":[{\"marker\":{\"line\":{\"color\":\"#283442\"}},\"type\":\"scatter\"}],\"scatterternary\":[{\"marker\":{\"colorbar\":{\"outlinewidth\":0,\"ticks\":\"\"}},\"type\":\"scatterternary\"}],\"surface\":[{\"colorbar\":{\"outlinewidth\":0,\"ticks\":\"\"},\"colorscale\":[[0.0,\"#0d0887\"],[0.1111111111111111,\"#46039f\"],[0.2222222222222222,\"#7201a8\"],[0.3333333333333333,\"#9c179e\"],[0.4444444444444444,\"#bd3786\"],[0.5555555555555556,\"#d8576b\"],[0.6666666666666666,\"#ed7953\"],[0.7777777777777778,\"#fb9f3a\"],[0.8888888888888888,\"#fdca26\"],[1.0,\"#f0f921\"]],\"type\":\"surface\"}],\"table\":[{\"cells\":{\"fill\":{\"color\":\"#506784\"},\"line\":{\"color\":\"rgb(17,17,17)\"}},\"header\":{\"fill\":{\"color\":\"#2a3f5f\"},\"line\":{\"color\":\"rgb(17,17,17)\"}},\"type\":\"table\"}]},\"layout\":{\"annotationdefaults\":{\"arrowcolor\":\"#f2f5fa\",\"arrowhead\":0,\"arrowwidth\":1},\"autotypenumbers\":\"strict\",\"coloraxis\":{\"colorbar\":{\"outlinewidth\":0,\"ticks\":\"\"}},\"colorscale\":{\"diverging\":[[0,\"#8e0152\"],[0.1,\"#c51b7d\"],[0.2,\"#de77ae\"],[0.3,\"#f1b6da\"],[0.4,\"#fde0ef\"],[0.5,\"#f7f7f7\"],[0.6,\"#e6f5d0\"],[0.7,\"#b8e186\"],[0.8,\"#7fbc41\"],[0.9,\"#4d9221\"],[1,\"#276419\"]],\"sequential\":[[0.0,\"#0d0887\"],[0.1111111111111111,\"#46039f\"],[0.2222222222222222,\"#7201a8\"],[0.3333333333333333,\"#9c179e\"],[0.4444444444444444,\"#bd3786\"],[0.5555555555555556,\"#d8576b\"],[0.6666666666666666,\"#ed7953\"],[0.7777777777777778,\"#fb9f3a\"],[0.8888888888888888,\"#fdca26\"],[1.0,\"#f0f921\"]],\"sequentialminus\":[[0.0,\"#0d0887\"],[0.1111111111111111,\"#46039f\"],[0.2222222222222222,\"#7201a8\"],[0.3333333333333333,\"#9c179e\"],[0.4444444444444444,\"#bd3786\"],[0.5555555555555556,\"#d8576b\"],[0.6666666666666666,\"#ed7953\"],[0.7777777777777778,\"#fb9f3a\"],[0.8888888888888888,\"#fdca26\"],[1.0,\"#f0f921\"]]},\"colorway\":[\"#636efa\",\"#EF553B\",\"#00cc96\",\"#ab63fa\",\"#FFA15A\",\"#19d3f3\",\"#FF6692\",\"#B6E880\",\"#FF97FF\",\"#FECB52\"],\"font\":{\"color\":\"#f2f5fa\"},\"geo\":{\"bgcolor\":\"rgb(17,17,17)\",\"lakecolor\":\"rgb(17,17,17)\",\"landcolor\":\"rgb(17,17,17)\",\"showlakes\":true,\"showland\":true,\"subunitcolor\":\"#506784\"},\"hoverlabel\":{\"align\":\"left\"},\"hovermode\":\"closest\",\"mapbox\":{\"style\":\"dark\"},\"paper_bgcolor\":\"rgb(17,17,17)\",\"plot_bgcolor\":\"rgb(17,17,17)\",\"polar\":{\"angularaxis\":{\"gridcolor\":\"#506784\",\"linecolor\":\"#506784\",\"ticks\":\"\"},\"bgcolor\":\"rgb(17,17,17)\",\"radialaxis\":{\"gridcolor\":\"#506784\",\"linecolor\":\"#506784\",\"ticks\":\"\"}},\"scene\":{\"xaxis\":{\"backgroundcolor\":\"rgb(17,17,17)\",\"gridcolor\":\"#506784\",\"gridwidth\":2,\"linecolor\":\"#506784\",\"showbackground\":true,\"ticks\":\"\",\"zerolinecolor\":\"#C8D4E3\"},\"yaxis\":{\"backgroundcolor\":\"rgb(17,17,17)\",\"gridcolor\":\"#506784\",\"gridwidth\":2,\"linecolor\":\"#506784\",\"showbackground\":true,\"ticks\":\"\",\"zerolinecolor\":\"#C8D4E3\"},\"zaxis\":{\"backgroundcolor\":\"rgb(17,17,17)\",\"gridcolor\":\"#506784\",\"gridwidth\":2,\"linecolor\":\"#506784\",\"showbackground\":true,\"ticks\":\"\",\"zerolinecolor\":\"#C8D4E3\"}},\"shapedefaults\":{\"line\":{\"color\":\"#f2f5fa\"}},\"sliderdefaults\":{\"bgcolor\":\"#C8D4E3\",\"bordercolor\":\"rgb(17,17,17)\",\"borderwidth\":1,\"tickwidth\":0},\"ternary\":{\"aaxis\":{\"gridcolor\":\"#506784\",\"linecolor\":\"#506784\",\"ticks\":\"\"},\"baxis\":{\"gridcolor\":\"#506784\",\"linecolor\":\"#506784\",\"ticks\":\"\"},\"bgcolor\":\"rgb(17,17,17)\",\"caxis\":{\"gridcolor\":\"#506784\",\"linecolor\":\"#506784\",\"ticks\":\"\"}},\"title\":{\"x\":0.05},\"updatemenudefaults\":{\"bgcolor\":\"#506784\",\"borderwidth\":0},\"xaxis\":{\"automargin\":true,\"gridcolor\":\"#283442\",\"linecolor\":\"#506784\",\"ticks\":\"\",\"title\":{\"standoff\":15},\"zerolinecolor\":\"#283442\",\"zerolinewidth\":2},\"yaxis\":{\"automargin\":true,\"gridcolor\":\"#283442\",\"linecolor\":\"#506784\",\"ticks\":\"\",\"title\":{\"standoff\":15},\"zerolinecolor\":\"#283442\",\"zerolinewidth\":2}}},\"yaxis\":{\"visible\":false,\"showticklabels\":false},\"xaxis\":{\"visible\":false,\"showticklabels\":false},\"title\":{\"text\":\"t-SNE based visualization of the summary embeddings\"},\"height\":900,\"width\":936,\"hovermode\":\"closest\",\"showlegend\":true},                        {\"responsive\": true}                    ).then(function(){\n",
       "                            \n",
       "var gd = document.getElementById('a72a3582-73b6-4ec6-8968-2837de95cd34');\n",
       "var x = new MutationObserver(function (mutations, observer) {{\n",
       "        var display = window.getComputedStyle(gd).display;\n",
       "        if (!display || display === 'none') {{\n",
       "            console.log([gd, 'removed!']);\n",
       "            Plotly.purge(gd);\n",
       "            observer.disconnect();\n",
       "        }}\n",
       "}});\n",
       "\n",
       "// Listen for the removal of the full notebook cells\n",
       "var notebookContainer = gd.closest('#notebook-container');\n",
       "if (notebookContainer) {{\n",
       "    x.observe(notebookContainer, {childList: true});\n",
       "}}\n",
       "\n",
       "// Listen for the clearing of the current output cell\n",
       "var outputEl = gd.closest('.output');\n",
       "if (outputEl) {{\n",
       "    x.observe(outputEl, {childList: true});\n",
       "}}\n",
       "\n",
       "                        })                };                });            </script>        </div>"
      ]
     },
     "metadata": {},
     "output_type": "display_data"
    }
   ],
   "source": [
    "# Get embeddings as matrix from the dataframe\n",
    "matrix = df.embedding.apply(eval).to_list()\n",
    "\n",
    "# Use T-distributed Stochastic Neighbor Embedding to create joint probabilities.\n",
    "tsne = TSNE(n_components=2, perplexity=15, random_state=42, init='random', learning_rate=200)\n",
    "vis_dims = tsne.fit_transform(np.array(matrix))\n",
    "\n",
    "x = [x for x,y in vis_dims]\n",
    "y = [y for x,y in vis_dims]\n",
    "\n",
    "fig = go.Figure()\n",
    "\n",
    "# Scatter plot for UMAP in 2D\n",
    "scatter_2d = go.Scatter(\n",
    "    x=x,\n",
    "    y=y,\n",
    "    mode='markers',\n",
    "    # Color w.r.t. summary length\n",
    "    marker = dict(color =[len(sm) for sm in df.summary],\n",
    "                                          size=9, \n",
    "                                          opacity=0.9,\n",
    "                                          colorbar=dict(thickness=10,x=1.1, title=\"N chars\")),\n",
    "    customdata= [sm.split('\\n')[0] for sm in df.summary],\n",
    "    hovertemplate='%{customdata}',\n",
    "    visible = True,\n",
    "    name=''\n",
    ")\n",
    "fig.add_trace(scatter_2d)\n",
    "\n",
    "fig.update_layout(yaxis={'visible': False, 'showticklabels': False})\n",
    "fig.update_layout(xaxis={'visible': False, 'showticklabels': False})\n",
    "\n",
    "# Update layout\n",
    "fig.update_layout(title = 't-SNE based visualization of the summary embeddings',\n",
    "                 height = 900,\n",
    "                 width = 936,\n",
    "                 template = 'plotly_dark',\n",
    "                 hovermode='closest',\n",
    "                 showlegend = True)\n",
    "\n",
    "\n",
    "plot(fig, filename = 'gptembed.html')\n",
    "display(HTML('gptembed.html'))"
   ]
  },
  {
   "cell_type": "code",
   "execution_count": 7,
   "id": "4d775616-adc2-4c95-b68b-7951d955e1ec",
   "metadata": {},
   "outputs": [],
   "source": [
    "import os\n",
    "import requests\n",
    "\n",
    "DATA_ROOT = \"../data/repro_mri_scoping/gpt_summary_nov23\"\n",
    "\n",
    "# Function to make Semantic Scholar API call and extract title and authors\n",
    "def get_paper_info(paper_id):\n",
    "    api_url = f\"https://api.semanticscholar.org/graph/v1/paper/{paper_id}?fields=url,year,authors,title\"\n",
    "    response = requests.get(api_url)\n",
    "    \n",
    "    if response.status_code == 200:\n",
    "        data = response.json()\n",
    "        title = data.get('title', 'Title Not Available')\n",
    "        year = data.get('year', 'Year Not Available')\n",
    "        authors = ', '.join(author.get('name', 'Unknown Author') for author in data.get('authors', []))\n",
    "        return title, authors, year\n",
    "    else:\n",
    "        print(f\"Failed to fetch data for paper_id: {paper_id}\")\n",
    "        return None, None, None\n",
    "\n",
    "# Directory containing txt files\n",
    "directory = DATA_ROOT\n",
    "\n",
    "# Initialize an empty list to store data\n",
    "combined_data = []\n",
    "\n",
    "# Loop through each txt file in the directory\n",
    "it =1\n",
    "for filename in os.listdir(directory):\n",
    "    if filename.endswith(\".txt\"):\n",
    "        paper_id = os.path.splitext(filename)[0]\n",
    "        file_path = os.path.join(directory, filename)\n",
    "        \n",
    "        # Read content of the txt file\n",
    "        with open(file_path, 'r', encoding='utf-8') as file:\n",
    "            content = file.read().strip()\n",
    "        \n",
    "        # Make Semantic Scholar API call to get paper title and authors\n",
    "        title, authors, year = get_paper_info(paper_id)\n",
    "        \n",
    "        # Append data to the list\n",
    "        combined_data.append(f\"\\nPaper number: {it}\\nYear: {year}\\nTitle: {title}\\nAuthors: {authors}\\n\\n{content}\\n\\n ---------------------------------------------------\")\n",
    "        it = it+1\n",
    "# Write the combined data to a text file\n",
    "with open('combined_papers_insight.txt', 'w', encoding='utf-8') as output_file:\n",
    "    output_file.writelines(combined_data)\n"
   ]
  },
  {
   "cell_type": "markdown",
   "id": "768b3de2-9274-497e-be86-2cdae19cb342",
   "metadata": {
    "editable": true,
    "slideshow": {
     "slide_type": ""
    },
    "tags": []
   },
   "source": [
    "```{bibliography}\n",
    "```"
   ]
  },
  {
   "cell_type": "code",
   "execution_count": null,
   "id": "84a88add-2ad5-4929-8aed-11193651d09a",
   "metadata": {},
   "outputs": [],
   "source": []
  }
 ],
 "metadata": {
  "kernelspec": {
   "display_name": "Python 3 (ipykernel)",
   "language": "python",
   "name": "python3"
  },
  "language_info": {
   "codemirror_mode": {
    "name": "ipython",
    "version": 3
   },
   "file_extension": ".py",
   "mimetype": "text/x-python",
   "name": "python",
   "nbconvert_exporter": "python",
   "pygments_lexer": "ipython3",
   "version": "3.8.18"
  }
 },
 "nbformat": 4,
 "nbformat_minor": 5
}
